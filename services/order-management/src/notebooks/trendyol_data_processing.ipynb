{
 "cells": [
  {
   "cell_type": "markdown",
   "id": "a28f8f52",
   "metadata": {},
   "source": [
    "# Trendyol API Data Analysis and Processing\n",
    "\n",
    "This notebook demonstrates how to process Trendyol API response data, with a focus on handling missing phone numbers and normalizing order data for our internal system."
   ]
  },
  {
   "cell_type": "code",
   "execution_count": 1,
   "id": "668d7a2b",
   "metadata": {},
   "outputs": [],
   "source": [
    "import json\n",
    "import pandas as pd\n",
    "import re\n",
    "from datetime import datetime"
   ]
  },
  {
   "cell_type": "markdown",
   "id": "0313accd",
   "metadata": {},
   "source": [
    "## Loading Sample Trendyol API Response\n",
    "\n",
    "First, let's load a sample API response from Trendyol to analyze its structure"
   ]
  },
  {
   "cell_type": "code",
   "execution_count": 3,
   "id": "32663798",
   "metadata": {},
   "outputs": [
    {
     "name": "stdout",
     "output_type": "stream",
     "text": [
      "Sample file not found. Using empty sample data.\n"
     ]
    }
   ],
   "source": [
    "# Sample response data from Trendyol API\n",
    "# This would typically be loaded from a file or API call\n",
    "# For demonstration purposes, we'll use a simplified version\n",
    "\n",
    "sample_response = {\n",
    "    \"totalElements\": 48,\n",
    "    \"totalPages\": 1,\n",
    "    \"page\": 0,\n",
    "    \"size\": 50,\n",
    "    \"content\": []\n",
    "}\n",
    "\n",
    "# Load actual data from a JSON file\n",
    "# In production, you would replace this with your actual API call\n",
    "try:\n",
    "    with open('trendyol_sample_response.json', 'r', encoding='utf-8') as f:\n",
    "        sample_response = json.load(f)\n",
    "    print(f\"Loaded sample data with {len(sample_response.get('content', []))} orders\")\n",
    "except FileNotFoundError:\n",
    "    print(\"Sample file not found. Using empty sample data.\")\n",
    "    # Create a minimal sample for demonstration\n",
    "    sample_response['content'] = [{\n",
    "        \"shipmentAddress\": {\n",
    "            \"firstName\": \"Sample\",\n",
    "            \"lastName\": \"User\",\n",
    "            \"address1\": \"Sample Address\",\n",
    "            \"city\": \"Istanbul\",\n",
    "            \"district\": \"Kadikoy\",\n",
    "            \"phone\": None,  # Note the null phone number\n",
    "            \"fullAddress\": \"Sample Address Line 1 Tel: 05551112233 Kadikoy Istanbul\"\n",
    "        },\n",
    "        \"orderNumber\": \"10219480975\",\n",
    "        \"totalPrice\": 349.00,\n",
    "        \"customerEmail\": \"sample@example.com\",\n",
    "        \"customerFirstName\": \"Sample\",\n",
    "        \"customerLastName\": \"User\",\n",
    "        \"lines\": [{\n",
    "            \"quantity\": 1,\n",
    "            \"merchantSku\": \"SAMPLE-SKU\",\n",
    "            \"productName\": \"Sample Product\",\n",
    "            \"productCode\": 1234567890,\n",
    "            \"barcode\": \"1234567890123\",\n",
    "            \"price\": 349.00\n",
    "        }],\n",
    "        \"status\": \"Created\",\n",
    "        \"orderDate\": 1747599284403,\n",
    "        \"cargoProviderName\": \"Sample Cargo\"\n",
    "    }]"
   ]
  },
  {
   "cell_type": "markdown",
   "id": "276c9553",
   "metadata": {},
   "source": [
    "## Analyzing Phone Number Fields\n",
    "\n",
    "The Trendyol API often returns `null` for the phone field in addresses. Let's analyze this pattern and create a robust extraction function."
   ]
  },
  {
   "cell_type": "code",
   "execution_count": 4,
   "id": "b29758d2",
   "metadata": {},
   "outputs": [
    {
     "name": "stdout",
     "output_type": "stream",
     "text": [
      "Extracted phone: '05551112233'\n",
      "Phone field in API: None\n"
     ]
    }
   ],
   "source": [
    "def extract_phone_number(order):\n",
    "    \"\"\"\n",
    "    Extract phone number from order data\n",
    "    Handles various formats and null cases in Trendyol API responses\n",
    "    \n",
    "    Args:\n",
    "        order (dict): The order object from Trendyol API\n",
    "        \n",
    "    Returns:\n",
    "        str: The extracted phone number or empty string if not available\n",
    "    \"\"\"\n",
    "    # Check if shipmentAddress phone field is available\n",
    "    if order.get('shipmentAddress') and order['shipmentAddress'].get('phone'):\n",
    "        return order['shipmentAddress']['phone']\n",
    "    \n",
    "    # Try to extract from fullAddress which sometimes contains phone\n",
    "    full_address = order.get('shipmentAddress', {}).get('fullAddress', '')\n",
    "    \n",
    "    # Common patterns in Turkish addresses for phone numbers\n",
    "    phone_patterns = [\n",
    "        r'(?:tel|telefon|gsm|cep|phone)[:\\s]*([+0-9\\s()\\-]{10,15})',  # Explicit markers\n",
    "        r'\\b(05\\d{2}[\\s-]?\\d{3}[\\s-]?\\d{2}[\\s-]?\\d{2})\\b',  # Turkish mobile format\n",
    "        r'\\b(\\+?90[\\s-]?5\\d{2}[\\s-]?\\d{3}[\\s-]?\\d{2}[\\s-]?\\d{2})\\b',  # With country code\n",
    "        r'\\b(\\d{3}[\\s-]?\\d{3}[\\s-]?\\d{2}[\\s-]?\\d{2})\\b'  # Generic number pattern\n",
    "    ]\n",
    "    \n",
    "    for pattern in phone_patterns:\n",
    "        match = re.search(pattern, full_address, re.IGNORECASE)\n",
    "        if match:\n",
    "            return match.group(1).strip()\n",
    "    \n",
    "    # Try invoiceAddress as fallback\n",
    "    if order.get('invoiceAddress') and order['invoiceAddress'].get('phone'):\n",
    "        return order['invoiceAddress']['phone']\n",
    "    \n",
    "    # If no phone found, return empty string\n",
    "    return ''\n",
    "\n",
    "# Test on the first order\n",
    "if sample_response['content']:\n",
    "    first_order = sample_response['content'][0]\n",
    "    phone = extract_phone_number(first_order)\n",
    "    print(f\"Extracted phone: '{phone}'\")\n",
    "    print(f\"Phone field in API: {first_order.get('shipmentAddress', {}).get('phone')}\")"
   ]
  },
  {
   "cell_type": "markdown",
   "id": "eb6cacec",
   "metadata": {},
   "source": [
    "## Order Status Mapping\n",
    "\n",
    "Now let's create a function to map Trendyol order statuses to our internal system's statuses."
   ]
  },
  {
   "cell_type": "code",
   "execution_count": 5,
   "id": "d9cdf5d8",
   "metadata": {},
   "outputs": [
    {
     "name": "stdout",
     "output_type": "stream",
     "text": [
      "Trendyol status: 'Created' → Internal status: 'NEW'\n",
      "Trendyol status: 'Shipped' → Internal status: 'SHIPPED'\n",
      "Trendyol status: 'Delivered' → Internal status: 'DELIVERED'\n",
      "Trendyol status: 'Cancelled' → Internal status: 'CANCELLED'\n",
      "Trendyol status: 'Unknown' → Internal status: 'UNKNOWN'\n"
     ]
    }
   ],
   "source": [
    "def map_order_status(trendyol_status):\n",
    "    \"\"\"\n",
    "    Maps Trendyol order statuses to our internal system statuses\n",
    "    \n",
    "    Args:\n",
    "        trendyol_status (str): The status from Trendyol API\n",
    "        \n",
    "    Returns:\n",
    "        str: Mapped internal status\n",
    "    \"\"\"\n",
    "    status_mapping = {\n",
    "        'Created': 'NEW',\n",
    "        'Awaiting': 'PENDING',\n",
    "        'Picking': 'PROCESSING',\n",
    "        'Shipped': 'SHIPPED',\n",
    "        'Delivered': 'DELIVERED',\n",
    "        'UnDelivered': 'FAILED_DELIVERY',\n",
    "        'Cancelled': 'CANCELLED',\n",
    "        'ReadyToShip': 'READY_TO_SHIP'\n",
    "    }\n",
    "    \n",
    "    return status_mapping.get(trendyol_status, 'UNKNOWN')\n",
    "\n",
    "# Test status mapping\n",
    "test_statuses = ['Created', 'Shipped', 'Delivered', 'Cancelled', 'Unknown']\n",
    "for status in test_statuses:\n",
    "    print(f\"Trendyol status: '{status}' → Internal status: '{map_order_status(status)}'\")"
   ]
  },
  {
   "cell_type": "markdown",
   "id": "2e64023b",
   "metadata": {},
   "source": [
    "## Complete Order Normalization Function\n",
    "\n",
    "Let's create a complete function to normalize Trendyol orders for our system."
   ]
  },
  {
   "cell_type": "code",
   "execution_count": 6,
   "id": "81984e86",
   "metadata": {},
   "outputs": [],
   "source": [
    "def normalize_trendyol_orders(trendyol_orders, connection_id='TRENDYOL_DEFAULT'):\n",
    "    \"\"\"\n",
    "    Normalizes Trendyol orders for our internal system\n",
    "    \n",
    "    Args:\n",
    "        trendyol_orders (list): List of orders from Trendyol API\n",
    "        connection_id (str): ID of the connection in our system\n",
    "        \n",
    "    Returns:\n",
    "        list: Normalized orders\n",
    "    \"\"\"\n",
    "    normalized_orders = []\n",
    "    \n",
    "    for order in trendyol_orders:\n",
    "        # Extract phone number with our robust method\n",
    "        phone_number = extract_phone_number(order)\n",
    "        \n",
    "        # Create normalized shipping details\n",
    "        shipping_detail = {\n",
    "            'recipientName': f\"{order['shipmentAddress']['firstName']} {order['shipmentAddress']['lastName']}\",\n",
    "            'address': order['shipmentAddress']['address1'],\n",
    "            'city': order['shipmentAddress']['city'],\n",
    "            'state': order['shipmentAddress']['district'],\n",
    "            'postalCode': order['shipmentAddress'].get('postalCode', ''),\n",
    "            'country': 'Turkey',  # Trendyol operates in Turkey\n",
    "            'phone': phone_number,\n",
    "            'email': order.get('customerEmail', ''),\n",
    "            'shippingMethod': order.get('cargoProviderName', '')\n",
    "        }\n",
    "        \n",
    "        # Create normalized order\n",
    "        normalized_order = {\n",
    "            'platformOrderId': order['orderNumber'],\n",
    "            'platformId': 'trendyol',\n",
    "            'connectionId': connection_id,\n",
    "            'orderDate': datetime.fromtimestamp(order['orderDate']/1000).isoformat(),\n",
    "            'orderStatus': map_order_status(order['status']),\n",
    "            'totalAmount': order.get('totalPrice', 0),\n",
    "            'currency': 'TRY',  # Turkish Lira\n",
    "            'shippingDetails': shipping_detail,\n",
    "            'customerName': f\"{order['customerFirstName']} {order['customerLastName']}\",\n",
    "            'customerEmail': order.get('customerEmail', ''),\n",
    "            'customerPhone': phone_number,\n",
    "            'notes': order.get('note', ''),\n",
    "            'items': []\n",
    "        }\n",
    "        \n",
    "        # Process order items\n",
    "        for item in order['lines']:\n",
    "            normalized_item = {\n",
    "                'platformProductId': str(item.get('productCode', '')),\n",
    "                'sku': item.get('merchantSku', ''),\n",
    "                'barcode': item.get('barcode', ''),\n",
    "                'title': item.get('productName', ''),\n",
    "                'quantity': item.get('quantity', 0),\n",
    "                'price': item.get('price', 0),\n",
    "                'currency': 'TRY',\n",
    "                'variantInfo': item.get('productSize', '')\n",
    "            }\n",
    "            normalized_order['items'].append(normalized_item)\n",
    "        \n",
    "        normalized_orders.append(normalized_order)\n",
    "    \n",
    "    return normalized_orders\n",
    "\n",
    "# Test normalization on the first 2 orders\n",
    "if len(sample_response['content']) >= 2:\n",
    "    test_orders = sample_response['content'][:2]\n",
    "    normalized = normalize_trendyol_orders(test_orders)\n",
    "    print(f\"Normalized {len(normalized)} orders\")\n",
    "    \n",
    "    # Display the first normalized order\n",
    "    import pprint\n",
    "    pp = pprint.PrettyPrinter(indent=2, width=100)\n",
    "    print(\"\\nFirst normalized order:\")\n",
    "    pp.pprint(normalized[0])"
   ]
  },
  {
   "cell_type": "markdown",
   "id": "51eb9a90",
   "metadata": {},
   "source": [
    "## Analysis of Phone Number Coverage\n",
    "\n",
    "Let's analyze how many orders have phone numbers after applying our extraction method."
   ]
  },
  {
   "cell_type": "code",
   "execution_count": 7,
   "id": "d74fcb70",
   "metadata": {},
   "outputs": [
    {
     "name": "stdout",
     "output_type": "stream",
     "text": [
      "Original API phone coverage: 0/1 orders (0.0%)\n",
      "After extraction phone coverage: 1/1 orders (100.0%)\n",
      "Improvement: 1 additional phone numbers found\n"
     ]
    }
   ],
   "source": [
    "if len(sample_response['content']) > 0:\n",
    "    # Count original phone coverage\n",
    "    original_phone_count = sum(1 for order in sample_response['content'] \n",
    "                               if order.get('shipmentAddress', {}).get('phone'))\n",
    "    \n",
    "    # Count extracted phone coverage\n",
    "    extracted_phone_count = sum(1 for order in sample_response['content'] \n",
    "                               if extract_phone_number(order))\n",
    "    \n",
    "    total_orders = len(sample_response['content'])\n",
    "    \n",
    "    print(f\"Original API phone coverage: {original_phone_count}/{total_orders} orders ({original_phone_count/total_orders*100:.1f}%)\")\n",
    "    print(f\"After extraction phone coverage: {extracted_phone_count}/{total_orders} orders ({extracted_phone_count/total_orders*100:.1f}%)\")\n",
    "    print(f\"Improvement: {extracted_phone_count - original_phone_count} additional phone numbers found\")"
   ]
  },
  {
   "cell_type": "markdown",
   "id": "afc45033",
   "metadata": {},
   "source": [
    "## Conclusion and Implementation Notes\n",
    "\n",
    "This notebook demonstrates how to handle missing phone numbers in Trendyol API responses. The key insights are:\n",
    "\n",
    "1. The `phone` field in shipmentAddress is often null in Trendyol API responses\n",
    "2. We can extract phone numbers from the fullAddress field using regex patterns\n",
    "3. We can fallback to invoiceAddress phone if available\n",
    "4. Our extraction method significantly improves phone number coverage\n",
    "\n",
    "For production implementation:\n",
    "- Add the `extractPhoneNumber` method to your TrendyolService class\n",
    "- Use this method when normalizing orders\n",
    "- Add unit tests to verify extraction effectiveness\n",
    "- Consider adding more regex patterns based on your specific data\n",
    "\n",
    "This approach ensures more complete data for customer contact information."
   ]
  }
 ],
 "metadata": {
  "kernelspec": {
   "display_name": "Python 3",
   "language": "python",
   "name": "python3"
  },
  "language_info": {
   "codemirror_mode": {
    "name": "ipython",
    "version": 3
   },
   "file_extension": ".py",
   "mimetype": "text/x-python",
   "name": "python",
   "nbconvert_exporter": "python",
   "pygments_lexer": "ipython3",
   "version": "3.13.3"
  }
 },
 "nbformat": 4,
 "nbformat_minor": 5
}
